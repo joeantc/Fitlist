{
  "nbformat": 4,
  "nbformat_minor": 0,
  "metadata": {
    "colab": {
      "provenance": [],
      "authorship_tag": "ABX9TyONnZuo/2ZwdGOotrpOO7oC",
      "include_colab_link": true
    },
    "kernelspec": {
      "name": "python3",
      "display_name": "Python 3"
    },
    "language_info": {
      "name": "python"
    }
  },
  "cells": [
    {
      "cell_type": "markdown",
      "metadata": {
        "id": "view-in-github",
        "colab_type": "text"
      },
      "source": [
        "<a href=\"https://colab.research.google.com/github/joeantc/Fitlist/blob/main/Fitlist.ipynb\" target=\"_parent\"><img src=\"https://colab.research.google.com/assets/colab-badge.svg\" alt=\"Open In Colab\"/></a>"
      ]
    },
    {
      "cell_type": "code",
      "execution_count": 16,
      "metadata": {
        "id": "1gC8bD3MC3kC"
      },
      "outputs": [],
      "source": [
        "import csv\n",
        "import os\n",
        "import requests\n",
        "import dropbox\n",
        "import requests\n",
        "from notion_client import Client\n",
        "from datetime import datetime as dt\n",
        "from concurrent.futures import ThreadPoolExecutor\n",
        "import itertools\n",
        "\n",
        "\n",
        "try:\n",
        "    from google.colab import userdata\n",
        "    APP_KEY = userdata.get('APP_KEY')\n",
        "    APP_SECRET = userdata.get('APP_SECRET')\n",
        "    REFRESH_TOKEN = userdata.get('REFRESH_TOKEN')\n",
        "    NOTION_API_KEY = userdata.get('NOTION_API_KEY')\n",
        "\n",
        "except ImportError:\n",
        "    # Fallback for environments other than Google Colab\n",
        "    APP_KEY = os.getenv('APP_KEY')\n",
        "    APP_SECRET = os.getenv('APP_SECRET')\n",
        "    REFRESH_TOKEN = os.getenv('REFRESH_TOKEN')\n",
        "    NOTION_API_KEY = os.getenv('NOTION_API_KEY')\n",
        "\n",
        "# Setup Dropbox API\n",
        "\n",
        "# APP_KEY = userdata.get('APP_KEY')\n",
        "\n",
        "\n",
        "CSV_FILE_PATH = '/export.csv'\n",
        "\n",
        "# Setup Notion API\n",
        "\n",
        "NOTION_DATABASE_ID = '11bfc863ef5f80468d10ffb86578164a'\n",
        "\n",
        "\n",
        "# Initialize Notion client\n",
        "notion = Client(auth=NOTION_API_KEY)\n"
      ]
    },
    {
      "cell_type": "code",
      "source": [
        "\n",
        "# Step 1: Get Authorization Code\n",
        "def get_auth_token():\n",
        "  print(\"Go to the following URL to authorize the app:\")\n",
        "  print(f\"https://www.dropbox.com/oauth2/authorize?client_id={APP_KEY}&token_access_type=offline&response_type=code\")\n",
        "  authorization_code = input(\"Enter the authorization code here: \")\n",
        "\n",
        "# Step 2: Exchange Authorization Code for Access Token and Refresh Token\n",
        "def get_tokens():\n",
        "    try:\n",
        "        response = requests.post(\n",
        "            \"https://api.dropbox.com/oauth2/token\",\n",
        "            data={\n",
        "                \"grant_type\": \"authorization_code\",\n",
        "                \"code\": authorization_code,\n",
        "                \"client_id\": APP_KEY,\n",
        "                \"client_secret\": APP_SECRET,\n",
        "            }\n",
        "        )\n",
        "        response.raise_for_status()\n",
        "        tokens = response.json()\n",
        "        print(\"Response from Dropbox:\", tokens)\n",
        "        access_token = tokens.get(\"access_token\")\n",
        "        refresh_token = tokens.get(\"refresh_token\")\n",
        "\n",
        "        if not refresh_token:\n",
        "            print(\"Refresh token not found. Make sure token_access_type=offline is used in the authorization URL.\")\n",
        "            return None, None\n",
        "\n",
        "        print(\"Access Token:\", access_token)\n",
        "        print(\"Refresh Token:\", refresh_token)\n",
        "        return access_token, refresh_token\n",
        "    except requests.exceptions.RequestException as e:\n",
        "        print(f\"Error retrieving tokens: {e}\")\n",
        "        print(\"Response content:\", response.content)\n",
        "        return None, None\n",
        "\n",
        "#access_token, refresh_token = get_tokens()\n"
      ],
      "metadata": {
        "id": "byzUjHK3N0Au"
      },
      "execution_count": 17,
      "outputs": []
    },
    {
      "cell_type": "code",
      "source": [
        "def refresh_access_token():\n",
        "    try:\n",
        "        response = requests.post(\n",
        "            \"https://api.dropbox.com/oauth2/token\",\n",
        "            data={\n",
        "                \"grant_type\": \"refresh_token\",\n",
        "                \"refresh_token\": REFRESH_TOKEN,\n",
        "                \"client_id\": APP_KEY,\n",
        "                \"client_secret\": APP_SECRET,\n",
        "            },\n",
        "        )\n",
        "        response.raise_for_status()\n",
        "        new_token = response.json()[\"access_token\"]\n",
        "        return new_token\n",
        "    except requests.exceptions.RequestException as e:\n",
        "        print(f\"Error refreshing access token: {e}\")\n",
        "        return None\n",
        "\n",
        "# Dropbox initialization\n",
        "DROPBOX_ACCESS_TOKEN = refresh_access_token()\n",
        "dbx = dropbox.Dropbox(DROPBOX_ACCESS_TOKEN)"
      ],
      "metadata": {
        "id": "d9BRbjYmK11n"
      },
      "execution_count": 18,
      "outputs": []
    },
    {
      "cell_type": "code",
      "source": [
        "# Step 1: Download CSV File from Dropbox\n",
        "def download_csv_from_dropbox():\n",
        "    try:\n",
        "        metadata, res = dbx.files_download(CSV_FILE_PATH)\n",
        "        csv_content = res.content.decode('utf-8')\n",
        "        return csv_content\n",
        "    except Exception as e:\n",
        "        print(f\"Error downloading file from Dropbox: {e}\")\n",
        "        return None"
      ],
      "metadata": {
        "id": "alNjh6b5AP0q"
      },
      "execution_count": 19,
      "outputs": []
    },
    {
      "cell_type": "code",
      "source": [
        "def create_records_in_notion(entries):\n",
        "    # If entries is a string (CSV content), parse it into rows\n",
        "    if isinstance(entries, str):\n",
        "        csv_reader = csv.DictReader(entries.splitlines())\n",
        "        entries = list(csv_reader)\n",
        "\n",
        "    for row in entries:\n",
        "        try:\n",
        "            # Cast 'Date' column to a Notion-compatible format\n",
        "            date_value = dt.strptime(row['Date'], '%d-%b-%Y').date().isoformat()\n",
        "        except ValueError as e:\n",
        "            print(f\"Error parsing date for row {row}: {e}\")\n",
        "            date_value = '2023-01-01'  # Default date in case of error\n",
        "\n",
        "        # Create new record properties, handling empty values gracefully\n",
        "        new_page = {\n",
        "            \"parent\": {\"database_id\": NOTION_DATABASE_ID},\n",
        "            \"properties\": {\n",
        "                'Date': {'date': {'start': date_value}},\n",
        "                'Exercise': {'title': [{'text': {'content': row['Exercise']}}]} if row['Exercise'] else {'title': [{'text': {'content': 'No Exercise'}}]},\n",
        "                'Set': {'number': int(row['Set #'])} if row['Set #'] else None,\n",
        "                'Reps': {'number': int(row['Reps'])} if row['Reps'] else None,\n",
        "                'Weight': {'number': int(row['Weight'])} if row['Weight'] else None,\n",
        "                'Duration': {'number': int(row['Duration'])} if row['Duration'] else None,\n",
        "                'Distance': {'rich_text': [{'text': {'content': row['Distance']}}]} if row['Distance'] else None,\n",
        "                'Resistance': {'rich_text': [{'text': {'content': row['Resistance']}}]} if row['Resistance'] else None,\n",
        "                'Notes': {'rich_text': [{'text': {'content': row['Notes']}}]} if row['Notes'] else None,\n",
        "            }\n",
        "        }\n",
        "\n",
        "        # Remove any properties with None values\n",
        "        new_page['properties'] = {k: v for k, v in new_page['properties'].items() if v is not None}\n",
        "\n",
        "        try:\n",
        "            notion.pages.create(**new_page)\n",
        "            print(f\"Successfully added record for {row['Date']}\")\n",
        "        except Exception as e:\n",
        "            print(f\"Error adding record to Notion for row {row}: {e}\")"
      ],
      "metadata": {
        "id": "pC22DghfAZ-2"
      },
      "execution_count": 20,
      "outputs": []
    },
    {
      "cell_type": "code",
      "source": [
        "# Step 7: Query Notion Database\n",
        "def query_notion_database():\n",
        "    try:\n",
        "        results = []\n",
        "        has_more = True\n",
        "        start_cursor = None\n",
        "        while has_more:\n",
        "            query = notion.databases.query(database_id=NOTION_DATABASE_ID, start_cursor=start_cursor)\n",
        "            results.extend(query.get('results', []))\n",
        "            has_more = query.get('has_more', False)\n",
        "            start_cursor = query.get('next_cursor', None)\n",
        "        return results\n",
        "    except Exception as e:\n",
        "        print(f\"Error querying Notion database: {e}\")\n",
        "        return []\n",
        "\n",
        "# Step 8: Compare CSV with Notion Records to Find Missing Entries\n",
        "def compare_csv_with_notion(csv_content, notion_records):\n",
        "    csv_reader = csv.DictReader(csv_content.splitlines())\n",
        "    csv_entries = [row for row in csv_reader]\n",
        "\n",
        "    # Create a set of unique identifiers from the Notion records (Date, Set, Exercise)\n",
        "    notion_entries = set()\n",
        "    for record in notion_records:\n",
        "        properties = record.get('properties', {})\n",
        "        date_value = properties['Date']['date']['start'] if 'Date' in properties and properties['Date'].get('date') else None\n",
        "        set_value = properties['Set']['number'] if 'Set' in properties and properties['Set'].get('number') is not None else None\n",
        "        exercise_value = properties['Exercise']['title'][0]['text']['content'] if 'Exercise' in properties and properties['Exercise'].get('title') else None\n",
        "\n",
        "        if date_value and set_value is not None and exercise_value:\n",
        "            notion_entries.add((date_value, set_value, exercise_value))\n",
        "\n",
        "    # Find CSV entries that are missing in Notion\n",
        "    missing_entries = [\n",
        "        row for row in csv_entries\n",
        "        if (dt.strptime(row['Date'], '%d-%b-%Y').date().isoformat(), int(row['Set #']), row['Exercise']) not in notion_entries\n",
        "    ]\n",
        "\n",
        "    print(f\"Number of missing items: {len(missing_entries)}\")\n",
        "    if missing_entries:\n",
        "        print(\"Records in CSV but not in Notion database:\")\n",
        "\n",
        "    else:\n",
        "        print(\"All records in CSV are present in the Notion database.\")\n",
        "    return missing_entries"
      ],
      "metadata": {
        "id": "tzyao536cOY5"
      },
      "execution_count": 21,
      "outputs": []
    },
    {
      "cell_type": "code",
      "source": [
        "if __name__ == \"__main__\":\n",
        "    csv_content = download_csv_from_dropbox()\n",
        "    if csv_content:\n",
        "        # Query Notion database and compare records\n",
        "        notion_records = query_notion_database()\n",
        "        if notion_records:\n",
        "            missing_entries = compare_csv_with_notion(csv_content, notion_records)\n",
        "            # Create missing records in Notion\n",
        "            create_records_in_notion(missing_entries)\n",
        "        else:\n",
        "            # Create all records in Notion if no records exist\n",
        "            csv_reader = csv.DictReader(csv_content.splitlines())\n",
        "            create_records_in_notion(list(csv_reader))"
      ],
      "metadata": {
        "colab": {
          "base_uri": "https://localhost:8080/"
        },
        "id": "dAL3GL5blzrR",
        "outputId": "5741e41f-5967-4d8c-a0de-eac4667b7143",
        "collapsed": true
      },
      "execution_count": 22,
      "outputs": [
        {
          "output_type": "stream",
          "name": "stdout",
          "text": [
            "Number of missing items: 0\n",
            "All records in CSV are present in the Notion database.\n"
          ]
        }
      ]
    }
  ]
}